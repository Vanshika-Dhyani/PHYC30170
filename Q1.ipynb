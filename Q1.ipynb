{
 "cells": [
  {
   "cell_type": "markdown",
   "metadata": {
    "id": "4zeeQVaT2h6k"
   },
   "source": [
    "<H1>Ex: A) Conversion of Celsius to Fahrenheit without using function"
   ]
  },
  {
   "cell_type": "markdown",
   "metadata": {
    "colab": {
     "base_uri": "https://localhost:8080/",
     "height": 68
    },
    "id": "Bv2nZe1h2TBH",
    "outputId": "478b6570-f983-4875-cb20-931e8ef8cf48"
   },
   "source": [
    "### a=int(input(\"Enter the Celsius: \"))\n",
    "print(\"Entered Celsius value is :\",a)\n",
    "ans=9/5*a+32\n",
    "print(\"The Fahrenheit value is :\",\"{:.2f}\".format(ans))"
   ]
  },
  {
   "cell_type": "markdown",
   "metadata": {
    "id": "p7eHuG7d2uWp"
   },
   "source": [
    "<H1>Ex: B) Conversion of Celsius to Fahrenheit by using function"
   ]
  },
  {
   "cell_type": "code",
   "execution_count": 1,
   "metadata": {
    "id": "PGjNpF-U0lTl"
   },
   "outputs": [],
   "source": [
    "def conversion(num):\n",
    "    ans=9/5*num+32\n",
    "    return ans"
   ]
  },
  {
   "cell_type": "code",
   "execution_count": null,
   "metadata": {
    "colab": {
     "base_uri": "https://localhost:8080/",
     "height": 68
    },
    "id": "zxT84seO07q_",
    "outputId": "25b9a608-a877-488a-a70e-3b9ba5212ec7"
   },
   "outputs": [],
   "source": [
    "a=int(input(\"Enter the Celsius: \"))\n",
    "print(\"Entered Celsius value is :\",a)\n",
    "print(\"The Fahrenheit value is :\",\"{:.2f}\".format(conversion(a)))"
   ]
  },
  {
   "cell_type": "markdown",
   "metadata": {
    "id": "UP0jSFXC26_6"
   },
   "source": [
    "<h1> Ex: C) Accepting the string, temperature and returning the dictionary of strings by using python."
   ]
  },
  {
   "cell_type": "code",
   "execution_count": null,
   "metadata": {
    "id": "qdjyk-OI5Ark"
   },
   "outputs": [],
   "source": [
    "def dictconversion(temperature,scale):\n",
    "    scale=scale.lower()\n",
    "    if(scale=='c'):\n",
    "      temp_cel=temperature\n",
    "      temp_fah=9/5*temperature+32\n",
    "      temp_kel=temperature+273.15\n",
    "      temp=(temp_cel,temp_fah,temp_kel)\n",
    "      scales=['C','F','K']\n",
    "      ans=dict(zip(scales,temp))\n",
    "      return ans\n",
    "    elif(scale=='f'):\n",
    "      temp_fah=temperature\n",
    "      temp_cel=(temperature - 32) * 5/9\n",
    "      temp_kel=temp_cel+273.15\n",
    "      temp=(temp_cel,temp_fah,temp_kel)\n",
    "      scales=['C','F','K']\n",
    "      ans=dict(zip(scales,temp))\n",
    "      return ans\n",
    "    elif(scale=='k'):\n",
    "      temp_kel=temperature\n",
    "      temp_fah=(temperature - 273.15) * 9/5 + 32\n",
    "      temp_cel=temperature - 273.15\n",
    "      temp=(temp_cel,temp_fah,temp_kel)\n",
    "      scales=['C','F','K']\n",
    "      ans=dict(zip(scales,temp))\n",
    "      return ans\n",
    "    else:\n",
    "      print(\"Please enter the scale in only C, F, K scale format\")\n",
    "      return None\n"
   ]
  },
  {
   "cell_type": "code",
   "execution_count": null,
   "metadata": {
    "colab": {
     "base_uri": "https://localhost:8080/",
     "height": 85
    },
    "id": "T4bYR3Zw4D8j",
    "outputId": "b02ceb99-294f-46fe-d5d1-0d2da9b78a71"
   },
   "outputs": [
    {
     "name": "stdout",
     "output_type": "stream",
     "text": [
      "Enter the single character : r\n",
      "Enter the Temperature in r Scale : 45\n",
      "Please enter the scale in only C, F, K scale format\n",
      "None\n"
     ]
    }
   ],
   "source": [
    "scale=input(\"Enter the single character : \")\n",
    "scale=scale[0]\n",
    "temperature=int(input(\"Enter the Temperature in {} Scale : \".format(scale)))\n",
    "print(dictconversion(temperature,scale))"
   ]
  },
  {
   "cell_type": "markdown",
   "metadata": {
    "id": "QAgNmLl6BtJw"
   },
   "source": [
    "<h1> Ex: D) Accepting the list of strings, temperatures and returning the dictionary of strings by using python."
   ]
  },
  {
   "cell_type": "code",
   "execution_count": null,
   "metadata": {
    "colab": {
     "base_uri": "https://localhost:8080/",
     "height": 153
    },
    "id": "G9dQQ3OUBr9D",
    "outputId": "82aad3cb-0616-4585-f142-434a10f03556"
   },
   "outputs": [
    {
     "name": "stdout",
     "output_type": "stream",
     "text": [
      "Enter the number of times u want to test the above conversion function2\n",
      "Enter the single character : r\n",
      "Enter the Temperature in r Scale : 45\n",
      "Please enter the scale in only C, F, K scale format\n",
      "None\n",
      "Enter the single character : f\n",
      "Enter the Temperature in f Scale : 445\n",
      "{'C': 229.44444444444446, 'F': 445, 'K': 502.59444444444443}\n"
     ]
    }
   ],
   "source": [
    "a=int(input(\"Enter the number of times u want to test the above conversion function : \"))\n",
    "for i in range(a):\n",
    "  scale=input(\"Enter the single character : \")\n",
    "  scale=scale[0]\n",
    "  temperature=int(input(\"Enter the Temperature in {} Scale : \".format(scale)))\n",
    "  print(dictconversion(temperature,scale))"
   ]
  },
  {
   "cell_type": "markdown",
   "metadata": {
    "id": "92fWKVsuFfHa"
   },
   "source": [
    "<h1> Ex: E) printing the conversion's in a range with step size and returning the dictionary of strings by using python."
   ]
  },
  {
   "cell_type": "code",
   "execution_count": null,
   "metadata": {
    "colab": {
     "base_uri": "https://localhost:8080/",
     "height": 340
    },
    "id": "6UPemwpRFiWA",
    "outputId": "fe1b9f8f-18e5-4098-d267-c164637fba59"
   },
   "outputs": [
    {
     "name": "stdout",
     "output_type": "stream",
     "text": [
      "Enter the Start range : -8\n",
      "Enter the end range : 40\n",
      "Enter the stepsize : 3\n",
      "-8   17.6\n",
      "-5   23.0\n",
      "-2   28.4\n",
      "1   33.8\n",
      "4   39.2\n",
      "7   44.6\n",
      "10   50.0\n",
      "13   55.400000000000006\n",
      "16   60.8\n",
      "19   66.2\n",
      "22   71.6\n",
      "25   77.0\n",
      "28   82.4\n",
      "31   87.80000000000001\n",
      "34   93.2\n",
      "37   98.60000000000001\n"
     ]
    }
   ],
   "source": [
    "start=int(input(\"Enter the Start range : \"))\n",
    "end=int(input(\"Enter the end range : \"))\n",
    "stepsize=int(input(\"Enter the stepsize : \"))\n",
    "\n",
    "for i in range(start,end,stepsize):\n",
    "  print(\"{}   {}\".format(i,conversion(i)))\n"
   ]
  },
  {
   "cell_type": "code",
   "execution_count": null,
   "metadata": {
    "id": "zp1vnVc5RCWn"
   },
   "outputs": [],
   "source": [
    "#formula \n",
    "import math\n",
    "import numpy as np\n",
    "\n",
    "y = A*w\n",
    "w = math.cos((2*np.pi*v*t)+pa)\n",
    "print(\"y)"
   ]
  },
  {
   "cell_type": "code",
   "execution_count": null,
   "metadata": {},
   "outputs": [],
   "source": []
  }
 ],
 "metadata": {
  "colab": {
   "collapsed_sections": [],
   "name": "Q1.ipynb",
   "provenance": []
  },
  "kernelspec": {
   "display_name": "Python 3",
   "language": "python",
   "name": "python3"
  },
  "language_info": {
   "codemirror_mode": {
    "name": "ipython",
    "version": 3
   },
   "file_extension": ".py",
   "mimetype": "text/x-python",
   "name": "python",
   "nbconvert_exporter": "python",
   "pygments_lexer": "ipython3",
   "version": "3.7.6"
  }
 },
 "nbformat": 4,
 "nbformat_minor": 1
}
